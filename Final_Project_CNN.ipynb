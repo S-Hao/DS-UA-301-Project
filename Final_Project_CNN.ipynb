{
  "nbformat": 4,
  "nbformat_minor": 0,
  "metadata": {
    "colab": {
      "provenance": []
    },
    "kernelspec": {
      "name": "python3",
      "display_name": "Python 3"
    },
    "language_info": {
      "name": "python"
    }
  },
  "cells": [
    {
      "cell_type": "code",
      "execution_count": 1,
      "metadata": {
        "id": "D6Fe5wBKS5n5"
      },
      "outputs": [],
      "source": [
        "#import libraries\n",
        "import sklearn\n",
        "import numpy as np\n",
        "import pandas as pd\n",
        "import sklearn.metrics\n",
        "import random\n",
        "\n",
        "from sklearn.model_selection import train_test_split\n",
        "from sklearn.datasets import fetch_20newsgroups\n"
      ]
    },
    {
      "cell_type": "markdown",
      "source": [
        "#Importing Data"
      ],
      "metadata": {
        "id": "ujOjoW8UUby3"
      }
    },
    {
      "cell_type": "markdown",
      "source": [
        "###20 newsgroups"
      ],
      "metadata": {
        "id": "MXE0rAazUdUp"
      }
    },
    {
      "cell_type": "code",
      "source": [
        "#category selection\n",
        "categories = ['alt.atheism', 'soc.religion.christian']\n",
        "\n",
        "#fetching data\n",
        "newsgroups_train = fetch_20newsgroups(subset='train', categories=categories)\n",
        "newsgroups_test = fetch_20newsgroups(subset='test', categories=categories)\n"
      ],
      "metadata": {
        "id": "mI11eo4VUgfh"
      },
      "execution_count": 2,
      "outputs": []
    },
    {
      "cell_type": "code",
      "source": [
        "#putting data in dataframe\n",
        "newsgroups_train_df = pd.DataFrame({'Text' : newsgroups_train.data})\n",
        "newsgroups_train_df['Target'] = newsgroups_train.target\n",
        "\n",
        "newsgroups_bulk_df = pd.DataFrame({'Text' : newsgroups_test.data})\n",
        "newsgroups_bulk_df['Target'] = newsgroups_test.target\n",
        "\n",
        "news_df = newsgroups_train_df.append(newsgroups_bulk_df)\n",
        "## 1 - atheist, 0 - christian\n",
        "news_df.head()"
      ],
      "metadata": {
        "colab": {
          "base_uri": "https://localhost:8080/",
          "height": 206
        },
        "id": "3pW0HAP4Uh9k",
        "outputId": "bb762e0e-52a6-4a42-f7b6-f66340db7b66"
      },
      "execution_count": 3,
      "outputs": [
        {
          "output_type": "execute_result",
          "data": {
            "text/plain": [
              "                                                Text  Target\n",
              "0  From: nigel.allen@canrem.com (Nigel Allen)\\nSu...       1\n",
              "1  From: marshall@csugrad.cs.vt.edu (Kevin Marsha...       0\n",
              "2  From: tedr@athena.cs.uga.edu (Ted Kalivoda)\\nS...       1\n",
              "3  From: keith@cco.caltech.edu (Keith Allan Schne...       0\n",
              "4  From: mayne@ds3.scri.fsu.edu (Bill Mayne)\\nSub...       1"
            ],
            "text/html": [
              "\n",
              "  <div id=\"df-b4004ec2-96ff-4ffb-a88d-298c11b0eb95\">\n",
              "    <div class=\"colab-df-container\">\n",
              "      <div>\n",
              "<style scoped>\n",
              "    .dataframe tbody tr th:only-of-type {\n",
              "        vertical-align: middle;\n",
              "    }\n",
              "\n",
              "    .dataframe tbody tr th {\n",
              "        vertical-align: top;\n",
              "    }\n",
              "\n",
              "    .dataframe thead th {\n",
              "        text-align: right;\n",
              "    }\n",
              "</style>\n",
              "<table border=\"1\" class=\"dataframe\">\n",
              "  <thead>\n",
              "    <tr style=\"text-align: right;\">\n",
              "      <th></th>\n",
              "      <th>Text</th>\n",
              "      <th>Target</th>\n",
              "    </tr>\n",
              "  </thead>\n",
              "  <tbody>\n",
              "    <tr>\n",
              "      <th>0</th>\n",
              "      <td>From: nigel.allen@canrem.com (Nigel Allen)\\nSu...</td>\n",
              "      <td>1</td>\n",
              "    </tr>\n",
              "    <tr>\n",
              "      <th>1</th>\n",
              "      <td>From: marshall@csugrad.cs.vt.edu (Kevin Marsha...</td>\n",
              "      <td>0</td>\n",
              "    </tr>\n",
              "    <tr>\n",
              "      <th>2</th>\n",
              "      <td>From: tedr@athena.cs.uga.edu (Ted Kalivoda)\\nS...</td>\n",
              "      <td>1</td>\n",
              "    </tr>\n",
              "    <tr>\n",
              "      <th>3</th>\n",
              "      <td>From: keith@cco.caltech.edu (Keith Allan Schne...</td>\n",
              "      <td>0</td>\n",
              "    </tr>\n",
              "    <tr>\n",
              "      <th>4</th>\n",
              "      <td>From: mayne@ds3.scri.fsu.edu (Bill Mayne)\\nSub...</td>\n",
              "      <td>1</td>\n",
              "    </tr>\n",
              "  </tbody>\n",
              "</table>\n",
              "</div>\n",
              "      <button class=\"colab-df-convert\" onclick=\"convertToInteractive('df-b4004ec2-96ff-4ffb-a88d-298c11b0eb95')\"\n",
              "              title=\"Convert this dataframe to an interactive table.\"\n",
              "              style=\"display:none;\">\n",
              "        \n",
              "  <svg xmlns=\"http://www.w3.org/2000/svg\" height=\"24px\"viewBox=\"0 0 24 24\"\n",
              "       width=\"24px\">\n",
              "    <path d=\"M0 0h24v24H0V0z\" fill=\"none\"/>\n",
              "    <path d=\"M18.56 5.44l.94 2.06.94-2.06 2.06-.94-2.06-.94-.94-2.06-.94 2.06-2.06.94zm-11 1L8.5 8.5l.94-2.06 2.06-.94-2.06-.94L8.5 2.5l-.94 2.06-2.06.94zm10 10l.94 2.06.94-2.06 2.06-.94-2.06-.94-.94-2.06-.94 2.06-2.06.94z\"/><path d=\"M17.41 7.96l-1.37-1.37c-.4-.4-.92-.59-1.43-.59-.52 0-1.04.2-1.43.59L10.3 9.45l-7.72 7.72c-.78.78-.78 2.05 0 2.83L4 21.41c.39.39.9.59 1.41.59.51 0 1.02-.2 1.41-.59l7.78-7.78 2.81-2.81c.8-.78.8-2.07 0-2.86zM5.41 20L4 18.59l7.72-7.72 1.47 1.35L5.41 20z\"/>\n",
              "  </svg>\n",
              "      </button>\n",
              "      \n",
              "  <style>\n",
              "    .colab-df-container {\n",
              "      display:flex;\n",
              "      flex-wrap:wrap;\n",
              "      gap: 12px;\n",
              "    }\n",
              "\n",
              "    .colab-df-convert {\n",
              "      background-color: #E8F0FE;\n",
              "      border: none;\n",
              "      border-radius: 50%;\n",
              "      cursor: pointer;\n",
              "      display: none;\n",
              "      fill: #1967D2;\n",
              "      height: 32px;\n",
              "      padding: 0 0 0 0;\n",
              "      width: 32px;\n",
              "    }\n",
              "\n",
              "    .colab-df-convert:hover {\n",
              "      background-color: #E2EBFA;\n",
              "      box-shadow: 0px 1px 2px rgba(60, 64, 67, 0.3), 0px 1px 3px 1px rgba(60, 64, 67, 0.15);\n",
              "      fill: #174EA6;\n",
              "    }\n",
              "\n",
              "    [theme=dark] .colab-df-convert {\n",
              "      background-color: #3B4455;\n",
              "      fill: #D2E3FC;\n",
              "    }\n",
              "\n",
              "    [theme=dark] .colab-df-convert:hover {\n",
              "      background-color: #434B5C;\n",
              "      box-shadow: 0px 1px 3px 1px rgba(0, 0, 0, 0.15);\n",
              "      filter: drop-shadow(0px 1px 2px rgba(0, 0, 0, 0.3));\n",
              "      fill: #FFFFFF;\n",
              "    }\n",
              "  </style>\n",
              "\n",
              "      <script>\n",
              "        const buttonEl =\n",
              "          document.querySelector('#df-b4004ec2-96ff-4ffb-a88d-298c11b0eb95 button.colab-df-convert');\n",
              "        buttonEl.style.display =\n",
              "          google.colab.kernel.accessAllowed ? 'block' : 'none';\n",
              "\n",
              "        async function convertToInteractive(key) {\n",
              "          const element = document.querySelector('#df-b4004ec2-96ff-4ffb-a88d-298c11b0eb95');\n",
              "          const dataTable =\n",
              "            await google.colab.kernel.invokeFunction('convertToInteractive',\n",
              "                                                     [key], {});\n",
              "          if (!dataTable) return;\n",
              "\n",
              "          const docLinkHtml = 'Like what you see? Visit the ' +\n",
              "            '<a target=\"_blank\" href=https://colab.research.google.com/notebooks/data_table.ipynb>data table notebook</a>'\n",
              "            + ' to learn more about interactive tables.';\n",
              "          element.innerHTML = '';\n",
              "          dataTable['output_type'] = 'display_data';\n",
              "          await google.colab.output.renderOutput(dataTable, element);\n",
              "          const docLink = document.createElement('div');\n",
              "          docLink.innerHTML = docLinkHtml;\n",
              "          element.appendChild(docLink);\n",
              "        }\n",
              "      </script>\n",
              "    </div>\n",
              "  </div>\n",
              "  "
            ]
          },
          "metadata": {},
          "execution_count": 3
        }
      ]
    },
    {
      "cell_type": "markdown",
      "source": [
        "###IMDB"
      ],
      "metadata": {
        "id": "G_Qal3YRUlIQ"
      }
    },
    {
      "cell_type": "code",
      "source": [
        "imdb_df = pd.read_csv(\"/content/IMDB Dataset.csv\", usecols=[\"review\", \"sentiment\"], encoding='latin-1')\n",
        "## 1 - positive, 0 - negative\n",
        "imdb_df.sentiment = (imdb_df.sentiment == \"positive\").astype(\"int\")\n",
        "imdb_df.head()"
      ],
      "metadata": {
        "colab": {
          "base_uri": "https://localhost:8080/",
          "height": 206
        },
        "id": "xrY9XgV-UlhO",
        "outputId": "2e4fef4b-bdea-4293-a33b-5d53397f3406"
      },
      "execution_count": 4,
      "outputs": [
        {
          "output_type": "execute_result",
          "data": {
            "text/plain": [
              "                                              review  sentiment\n",
              "0  One of the other reviewers has mentioned that ...          1\n",
              "1  A wonderful little production. <br /><br />The...          1\n",
              "2  I thought this was a wonderful way to spend ti...          1\n",
              "3  Basically there's a family where a little boy ...          0\n",
              "4  Petter Mattei's \"Love in the Time of Money\" is...          1"
            ],
            "text/html": [
              "\n",
              "  <div id=\"df-49234c1a-5253-46a5-97f7-10226807c171\">\n",
              "    <div class=\"colab-df-container\">\n",
              "      <div>\n",
              "<style scoped>\n",
              "    .dataframe tbody tr th:only-of-type {\n",
              "        vertical-align: middle;\n",
              "    }\n",
              "\n",
              "    .dataframe tbody tr th {\n",
              "        vertical-align: top;\n",
              "    }\n",
              "\n",
              "    .dataframe thead th {\n",
              "        text-align: right;\n",
              "    }\n",
              "</style>\n",
              "<table border=\"1\" class=\"dataframe\">\n",
              "  <thead>\n",
              "    <tr style=\"text-align: right;\">\n",
              "      <th></th>\n",
              "      <th>review</th>\n",
              "      <th>sentiment</th>\n",
              "    </tr>\n",
              "  </thead>\n",
              "  <tbody>\n",
              "    <tr>\n",
              "      <th>0</th>\n",
              "      <td>One of the other reviewers has mentioned that ...</td>\n",
              "      <td>1</td>\n",
              "    </tr>\n",
              "    <tr>\n",
              "      <th>1</th>\n",
              "      <td>A wonderful little production. &lt;br /&gt;&lt;br /&gt;The...</td>\n",
              "      <td>1</td>\n",
              "    </tr>\n",
              "    <tr>\n",
              "      <th>2</th>\n",
              "      <td>I thought this was a wonderful way to spend ti...</td>\n",
              "      <td>1</td>\n",
              "    </tr>\n",
              "    <tr>\n",
              "      <th>3</th>\n",
              "      <td>Basically there's a family where a little boy ...</td>\n",
              "      <td>0</td>\n",
              "    </tr>\n",
              "    <tr>\n",
              "      <th>4</th>\n",
              "      <td>Petter Mattei's \"Love in the Time of Money\" is...</td>\n",
              "      <td>1</td>\n",
              "    </tr>\n",
              "  </tbody>\n",
              "</table>\n",
              "</div>\n",
              "      <button class=\"colab-df-convert\" onclick=\"convertToInteractive('df-49234c1a-5253-46a5-97f7-10226807c171')\"\n",
              "              title=\"Convert this dataframe to an interactive table.\"\n",
              "              style=\"display:none;\">\n",
              "        \n",
              "  <svg xmlns=\"http://www.w3.org/2000/svg\" height=\"24px\"viewBox=\"0 0 24 24\"\n",
              "       width=\"24px\">\n",
              "    <path d=\"M0 0h24v24H0V0z\" fill=\"none\"/>\n",
              "    <path d=\"M18.56 5.44l.94 2.06.94-2.06 2.06-.94-2.06-.94-.94-2.06-.94 2.06-2.06.94zm-11 1L8.5 8.5l.94-2.06 2.06-.94-2.06-.94L8.5 2.5l-.94 2.06-2.06.94zm10 10l.94 2.06.94-2.06 2.06-.94-2.06-.94-.94-2.06-.94 2.06-2.06.94z\"/><path d=\"M17.41 7.96l-1.37-1.37c-.4-.4-.92-.59-1.43-.59-.52 0-1.04.2-1.43.59L10.3 9.45l-7.72 7.72c-.78.78-.78 2.05 0 2.83L4 21.41c.39.39.9.59 1.41.59.51 0 1.02-.2 1.41-.59l7.78-7.78 2.81-2.81c.8-.78.8-2.07 0-2.86zM5.41 20L4 18.59l7.72-7.72 1.47 1.35L5.41 20z\"/>\n",
              "  </svg>\n",
              "      </button>\n",
              "      \n",
              "  <style>\n",
              "    .colab-df-container {\n",
              "      display:flex;\n",
              "      flex-wrap:wrap;\n",
              "      gap: 12px;\n",
              "    }\n",
              "\n",
              "    .colab-df-convert {\n",
              "      background-color: #E8F0FE;\n",
              "      border: none;\n",
              "      border-radius: 50%;\n",
              "      cursor: pointer;\n",
              "      display: none;\n",
              "      fill: #1967D2;\n",
              "      height: 32px;\n",
              "      padding: 0 0 0 0;\n",
              "      width: 32px;\n",
              "    }\n",
              "\n",
              "    .colab-df-convert:hover {\n",
              "      background-color: #E2EBFA;\n",
              "      box-shadow: 0px 1px 2px rgba(60, 64, 67, 0.3), 0px 1px 3px 1px rgba(60, 64, 67, 0.15);\n",
              "      fill: #174EA6;\n",
              "    }\n",
              "\n",
              "    [theme=dark] .colab-df-convert {\n",
              "      background-color: #3B4455;\n",
              "      fill: #D2E3FC;\n",
              "    }\n",
              "\n",
              "    [theme=dark] .colab-df-convert:hover {\n",
              "      background-color: #434B5C;\n",
              "      box-shadow: 0px 1px 3px 1px rgba(0, 0, 0, 0.15);\n",
              "      filter: drop-shadow(0px 1px 2px rgba(0, 0, 0, 0.3));\n",
              "      fill: #FFFFFF;\n",
              "    }\n",
              "  </style>\n",
              "\n",
              "      <script>\n",
              "        const buttonEl =\n",
              "          document.querySelector('#df-49234c1a-5253-46a5-97f7-10226807c171 button.colab-df-convert');\n",
              "        buttonEl.style.display =\n",
              "          google.colab.kernel.accessAllowed ? 'block' : 'none';\n",
              "\n",
              "        async function convertToInteractive(key) {\n",
              "          const element = document.querySelector('#df-49234c1a-5253-46a5-97f7-10226807c171');\n",
              "          const dataTable =\n",
              "            await google.colab.kernel.invokeFunction('convertToInteractive',\n",
              "                                                     [key], {});\n",
              "          if (!dataTable) return;\n",
              "\n",
              "          const docLinkHtml = 'Like what you see? Visit the ' +\n",
              "            '<a target=\"_blank\" href=https://colab.research.google.com/notebooks/data_table.ipynb>data table notebook</a>'\n",
              "            + ' to learn more about interactive tables.';\n",
              "          element.innerHTML = '';\n",
              "          dataTable['output_type'] = 'display_data';\n",
              "          await google.colab.output.renderOutput(dataTable, element);\n",
              "          const docLink = document.createElement('div');\n",
              "          docLink.innerHTML = docLinkHtml;\n",
              "          element.appendChild(docLink);\n",
              "        }\n",
              "      </script>\n",
              "    </div>\n",
              "  </div>\n",
              "  "
            ]
          },
          "metadata": {},
          "execution_count": 4
        }
      ]
    },
    {
      "cell_type": "markdown",
      "source": [
        "#Data Cleaning/Transformation"
      ],
      "metadata": {
        "id": "gDUHLmiCdjS5"
      }
    },
    {
      "cell_type": "code",
      "source": [
        "from tensorflow.keras.preprocessing.text import Tokenizer\n",
        "from tensorflow.keras.preprocessing.sequence import pad_sequences"
      ],
      "metadata": {
        "id": "WhhtHbfmWl6z"
      },
      "execution_count": 5,
      "outputs": []
    },
    {
      "cell_type": "code",
      "source": [
        "from string import punctuation\n",
        "import re\n",
        "\n",
        "#cleaning data method\n",
        "def clean(text_list):\n",
        "  clean_data = []\n",
        "  for text in text_list:\n",
        "    #lowercase\n",
        "    text=text.lower()\n",
        "    #remove non-alphanumeric\n",
        "    text = re.sub('\\W+',' ', text )\n",
        "    clean_data.append(text)\n",
        "\n",
        "  return clean_data"
      ],
      "metadata": {
        "id": "kfJ6LAOPfxzU"
      },
      "execution_count": 6,
      "outputs": []
    },
    {
      "cell_type": "markdown",
      "source": [
        "###20 newsgroups"
      ],
      "metadata": {
        "id": "bh8AU7qAd5ek"
      }
    },
    {
      "cell_type": "code",
      "source": [
        "#cleaning\n",
        "news_df[\"Clean\"] = clean(news_df[\"Text\"])\n",
        "\n",
        "news_df[\"Clean\"].sample()\n",
        "\n",
        "#y one hot"
      ],
      "metadata": {
        "colab": {
          "base_uri": "https://localhost:8080/"
        },
        "id": "CuU9KPVxdjrs",
        "outputId": "d681cedb-2fb2-45b0-c44e-19ac0a13312d"
      },
      "execution_count": 7,
      "outputs": [
        {
          "output_type": "execute_result",
          "data": {
            "text/plain": [
              "909    from madhaus netcom com maddi hausmann subject...\n",
              "Name: Clean, dtype: object"
            ]
          },
          "metadata": {},
          "execution_count": 7
        }
      ]
    },
    {
      "cell_type": "code",
      "source": [
        "#tokenization\n",
        "\n",
        "max_features = 2000\n",
        "news_tokenizer = Tokenizer(num_words=max_features, split=' ')\n",
        "\n",
        "#convert to tokens\n",
        "X_news_token = news_tokenizer.fit_on_texts(news_df[\"Clean\"])\n",
        "#convert to sequence\n",
        "X_news_sequence = news_tokenizer.texts_to_sequences(news_df[\"Clean\"])\n",
        "#padding\n",
        "news_X = pad_sequences(X_news_sequence)\n",
        "\n",
        "news_y = pd.get_dummies(news_df['Target']).values"
      ],
      "metadata": {
        "id": "GoQT9Al5Wfo3"
      },
      "execution_count": 8,
      "outputs": []
    },
    {
      "cell_type": "code",
      "source": [
        "#train_test_val_split\n",
        "#train 0.6, val 0.2, test 0.2\n",
        "X_bulk_news, X_test_news, y_bulk_news, y_test_news = train_test_split(news_X, news_y, test_size=0.2)\n",
        "X_train_news, X_val_news, y_train_news, y_val_news = train_test_split(X_bulk_news, y_bulk_news, test_size=0.25)"
      ],
      "metadata": {
        "id": "NM8sUFQq-Adi"
      },
      "execution_count": 9,
      "outputs": []
    },
    {
      "cell_type": "markdown",
      "source": [
        "###IMDB"
      ],
      "metadata": {
        "id": "gAPVI3VMd8CU"
      }
    },
    {
      "cell_type": "code",
      "source": [
        "#cleaning\n",
        "imdb_df[\"Clean\"] = clean(imdb_df[\"review\"])\n",
        "\n",
        "imdb_df[\"Clean\"].sample()\n"
      ],
      "metadata": {
        "colab": {
          "base_uri": "https://localhost:8080/"
        },
        "id": "lclGDtl3d885",
        "outputId": "99860718-f248-46c7-a76b-9f0d7a711d66"
      },
      "execution_count": 10,
      "outputs": [
        {
          "output_type": "execute_result",
          "data": {
            "text/plain": [
              "289    i would like to know if anyone know how i can ...\n",
              "Name: Clean, dtype: object"
            ]
          },
          "metadata": {},
          "execution_count": 10
        }
      ]
    },
    {
      "cell_type": "code",
      "source": [
        "#tokenization\n",
        "\n",
        "max_features = 2000\n",
        "imdb_tokenizer = Tokenizer(num_words=max_features, split=' ')\n",
        "\n",
        "#convert to tokens\n",
        "X_imdb_token = imdb_tokenizer.fit_on_texts(imdb_df[\"Clean\"])\n",
        "#convert to sequence\n",
        "X_imdb_sequence = imdb_tokenizer.texts_to_sequences(imdb_df[\"Clean\"])\n",
        "#padding\n",
        "imdb_X = pad_sequences(X_imdb_sequence)\n",
        "\n",
        "imdb_y = pd.get_dummies(imdb_df['sentiment']).values"
      ],
      "metadata": {
        "id": "vFBGeka0cfll"
      },
      "execution_count": 11,
      "outputs": []
    },
    {
      "cell_type": "code",
      "source": [
        "#train_test_val_split\n",
        "#train 0.6, val 0.2, test 0.2\n",
        "X_bulk_imdb, X_test_imdb, y_bulk_imdb, y_test_imdb = train_test_split(imdb_X, imdb_y, test_size=0.2)\n",
        "X_train_imdb, X_val_imdb, y_train_imdb, y_val_imdb = train_test_split(X_bulk_imdb, y_bulk_imdb, test_size=0.25)"
      ],
      "metadata": {
        "id": "Wi5wUfb0-RZT"
      },
      "execution_count": 12,
      "outputs": []
    },
    {
      "cell_type": "markdown",
      "source": [
        "#Model Creation"
      ],
      "metadata": {
        "id": "dKQEA8i_W--n"
      }
    },
    {
      "cell_type": "code",
      "source": [
        "from tensorflow.keras.models import Sequential\n",
        "from keras.layers import Dense, Input, GlobalMaxPooling1D\n",
        "from keras.layers import Conv1D, MaxPooling1D, Embedding\n",
        "from keras.models import Model\n",
        "from keras.layers import Input, Dense, Embedding, Conv2D, MaxPooling2D, Dropout,concatenate,AveragePooling2D\n",
        "from keras.layers.core import Reshape, Flatten\n",
        "from keras.callbacks import EarlyStopping\n",
        "from keras.models import Model\n",
        "from keras import regularizers"
      ],
      "metadata": {
        "id": "vKdqtFQ54Qse"
      },
      "execution_count": 14,
      "outputs": []
    },
    {
      "cell_type": "markdown",
      "source": [
        "###20 newsgroups"
      ],
      "metadata": {
        "id": "DO8EmjXaDW-7"
      }
    },
    {
      "cell_type": "code",
      "source": [
        "def simple_news():\n",
        "  embed_dim = 128\n",
        "  news_input_length=news_X.shape[1]\n",
        "  filter_size = 3\n",
        "  num_filters = 100\n",
        "  drop = 0.5\n",
        "  num_classes=2\n",
        "\n",
        "  embedding_layer = Embedding(max_features, embed_dim)\n",
        "  inputs = Input(shape=(news_input_length,))\n",
        "  embedding = embedding_layer(inputs)\n",
        "  reshape = Reshape((news_input_length,embed_dim,1))(embedding)\n",
        "\n",
        "  conv_0 = Conv2D(num_filters, (filter_size, embed_dim),activation='tanh',kernel_regularizer=regularizers.l2(0.01))(reshape)\n",
        "  maxpool_0 = MaxPooling2D((news_input_length - filter_size + 1, 1), strides=(1,1))(conv_0)\n",
        "\n",
        "  flatten = Flatten()(maxpool_0)\n",
        "\n",
        "  fc2=Dense(units=84, activation='tanh',kernel_regularizer=regularizers.l2(0.01))(flatten)\n",
        "  dropout = Dropout(drop)(fc2)\n",
        "\n",
        "  output = Dense(units=num_classes, activation='softmax',kernel_regularizer=regularizers.l2(0.01))(dropout)\n",
        "\n",
        "  model = Model(inputs, output)\n",
        "\n",
        "  return model\n",
        "\n",
        "news_model=simple_news()\n",
        "news_model.summary()"
      ],
      "metadata": {
        "colab": {
          "base_uri": "https://localhost:8080/"
        },
        "id": "k31FhsKnJMXS",
        "outputId": "73bf7c43-89b6-4429-a9b1-46dea55400e0"
      },
      "execution_count": 16,
      "outputs": [
        {
          "output_type": "stream",
          "name": "stdout",
          "text": [
            "Model: \"model\"\n",
            "_________________________________________________________________\n",
            " Layer (type)                Output Shape              Param #   \n",
            "=================================================================\n",
            " input_2 (InputLayer)        [(None, 7472)]            0         \n",
            "                                                                 \n",
            " embedding (Embedding)       (None, 7472, 128)         256000    \n",
            "                                                                 \n",
            " reshape (Reshape)           (None, 7472, 128, 1)      0         \n",
            "                                                                 \n",
            " conv2d (Conv2D)             (None, 7470, 1, 100)      38500     \n",
            "                                                                 \n",
            " max_pooling2d (MaxPooling2D  (None, 1, 1, 100)        0         \n",
            " )                                                               \n",
            "                                                                 \n",
            " flatten (Flatten)           (None, 100)               0         \n",
            "                                                                 \n",
            " dense (Dense)               (None, 84)                8484      \n",
            "                                                                 \n",
            " dropout (Dropout)           (None, 84)                0         \n",
            "                                                                 \n",
            " dense_1 (Dense)             (None, 2)                 170       \n",
            "                                                                 \n",
            "=================================================================\n",
            "Total params: 303,154\n",
            "Trainable params: 303,154\n",
            "Non-trainable params: 0\n",
            "_________________________________________________________________\n"
          ]
        }
      ]
    },
    {
      "cell_type": "code",
      "source": [
        "news_model.compile(loss = 'categorical_crossentropy', optimizer='adam',metrics = ['accuracy'])\n"
      ],
      "metadata": {
        "id": "zMCqN7FQIG9o"
      },
      "execution_count": 17,
      "outputs": []
    },
    {
      "cell_type": "markdown",
      "source": [
        "###IMDB"
      ],
      "metadata": {
        "id": "TKmnnDwmNme6"
      }
    },
    {
      "cell_type": "code",
      "source": [
        "def simple_imdb():\n",
        "  embed_dim = 128\n",
        "  imdb_input_length=imdb_X.shape[1]\n",
        "  filter_size = 3\n",
        "  num_filters = 100\n",
        "  drop = 0.5\n",
        "  num_classes=2\n",
        "\n",
        "  embedding_layer = Embedding(max_features, embed_dim)\n",
        "  inputs = Input(shape=(imdb_input_length,))\n",
        "  embedding = embedding_layer(inputs)\n",
        "  reshape = Reshape((imdb_input_length,embed_dim,1))(embedding)\n",
        "\n",
        "  conv_0 = Conv2D(num_filters, (filter_size, embed_dim),activation='tanh',kernel_regularizer=regularizers.l2(0.01))(reshape)\n",
        "  maxpool_0 = MaxPooling2D((imdb_input_length - filter_size + 1, 1), strides=(1,1))(conv_0)\n",
        "\n",
        "  flatten = Flatten()(maxpool_0)\n",
        "\n",
        "  fc2=Dense(units=84, activation='tanh',kernel_regularizer=regularizers.l2(0.01))(flatten)\n",
        "  dropout = Dropout(drop)(fc2)\n",
        "\n",
        "  output = Dense(units=num_classes, activation='softmax',kernel_regularizer=regularizers.l2(0.01))(dropout)\n",
        "\n",
        "  model = Model(inputs, output)\n",
        "\n",
        "  return model\n",
        "\n",
        "imdb_model=simple_imdb()\n",
        "imdb_model.summary()"
      ],
      "metadata": {
        "colab": {
          "base_uri": "https://localhost:8080/"
        },
        "id": "NrZXDGY2NnXn",
        "outputId": "6a193d7b-fdcf-471f-c92d-055d438249c0"
      },
      "execution_count": 18,
      "outputs": [
        {
          "output_type": "stream",
          "name": "stdout",
          "text": [
            "Model: \"model_1\"\n",
            "_________________________________________________________________\n",
            " Layer (type)                Output Shape              Param #   \n",
            "=================================================================\n",
            " input_3 (InputLayer)        [(None, 2017)]            0         \n",
            "                                                                 \n",
            " embedding_1 (Embedding)     (None, 2017, 128)         256000    \n",
            "                                                                 \n",
            " reshape_1 (Reshape)         (None, 2017, 128, 1)      0         \n",
            "                                                                 \n",
            " conv2d_1 (Conv2D)           (None, 2015, 1, 100)      38500     \n",
            "                                                                 \n",
            " max_pooling2d_1 (MaxPooling  (None, 1, 1, 100)        0         \n",
            " 2D)                                                             \n",
            "                                                                 \n",
            " flatten_1 (Flatten)         (None, 100)               0         \n",
            "                                                                 \n",
            " dense_2 (Dense)             (None, 84)                8484      \n",
            "                                                                 \n",
            " dropout_1 (Dropout)         (None, 84)                0         \n",
            "                                                                 \n",
            " dense_3 (Dense)             (None, 2)                 170       \n",
            "                                                                 \n",
            "=================================================================\n",
            "Total params: 303,154\n",
            "Trainable params: 303,154\n",
            "Non-trainable params: 0\n",
            "_________________________________________________________________\n"
          ]
        }
      ]
    },
    {
      "cell_type": "code",
      "source": [
        "imdb_model.compile(loss = 'categorical_crossentropy', optimizer='adam',metrics = ['accuracy'])\n"
      ],
      "metadata": {
        "id": "Ya0q0e3TN0YG"
      },
      "execution_count": 22,
      "outputs": []
    },
    {
      "cell_type": "markdown",
      "source": [
        "#Training"
      ],
      "metadata": {
        "id": "5S5vubr2Lu4t"
      }
    },
    {
      "cell_type": "markdown",
      "source": [
        "###20 newsgroups"
      ],
      "metadata": {
        "id": "0RNVtq_VN2xN"
      }
    },
    {
      "cell_type": "code",
      "source": [
        "news_fit = news_model.fit(X_train_news, y_train_news, batch_size=10, epochs=5, verbose=1, validation_data=(X_val_news, y_val_news))"
      ],
      "metadata": {
        "colab": {
          "base_uri": "https://localhost:8080/"
        },
        "id": "-ZOH2DOQLwde",
        "outputId": "7e9f97bc-515c-4734-8c3e-fc5f37e00556"
      },
      "execution_count": 20,
      "outputs": [
        {
          "output_type": "stream",
          "name": "stdout",
          "text": [
            "Epoch 1/5\n",
            "108/108 [==============================] - 76s 692ms/step - loss: 1.0130 - accuracy: 0.7595 - val_loss: 0.4688 - val_accuracy: 0.9499\n",
            "Epoch 2/5\n",
            "108/108 [==============================] - 73s 674ms/step - loss: 0.3162 - accuracy: 0.9703 - val_loss: 0.2566 - val_accuracy: 0.9610\n",
            "Epoch 3/5\n",
            "108/108 [==============================] - 73s 675ms/step - loss: 0.1996 - accuracy: 0.9824 - val_loss: 0.2244 - val_accuracy: 0.9638\n",
            "Epoch 4/5\n",
            "108/108 [==============================] - 73s 678ms/step - loss: 0.1643 - accuracy: 0.9944 - val_loss: 0.2082 - val_accuracy: 0.9666\n",
            "Epoch 5/5\n",
            "108/108 [==============================] - 73s 676ms/step - loss: 0.1446 - accuracy: 0.9916 - val_loss: 0.1972 - val_accuracy: 0.9694\n"
          ]
        }
      ]
    },
    {
      "cell_type": "markdown",
      "source": [
        "###IMDB"
      ],
      "metadata": {
        "id": "IhxiuUI5OBMd"
      }
    },
    {
      "cell_type": "code",
      "source": [
        "imdb_fit = imdb_model.fit(X_train_imdb, y_train_imdb, batch_size=256, epochs=5, verbose=1, validation_data=(X_val_imdb, y_val_imdb))"
      ],
      "metadata": {
        "colab": {
          "base_uri": "https://localhost:8080/"
        },
        "id": "GnpbjoGHODEk",
        "outputId": "7d776992-ff34-4c19-f991-f132f2ec6d66"
      },
      "execution_count": 24,
      "outputs": [
        {
          "output_type": "stream",
          "name": "stdout",
          "text": [
            "Epoch 1/5\n",
            "118/118 [==============================] - 544s 5s/step - loss: 0.9092 - accuracy: 0.6272 - val_loss: 0.6733 - val_accuracy: 0.7135\n",
            "Epoch 2/5\n",
            "118/118 [==============================] - 546s 5s/step - loss: 0.5634 - accuracy: 0.7724 - val_loss: 0.5124 - val_accuracy: 0.7923\n",
            "Epoch 3/5\n",
            "118/118 [==============================] - 543s 5s/step - loss: 0.4856 - accuracy: 0.8176 - val_loss: 0.4756 - val_accuracy: 0.8243\n",
            "Epoch 4/5\n",
            "118/118 [==============================] - 558s 5s/step - loss: 0.4529 - accuracy: 0.8428 - val_loss: 0.4511 - val_accuracy: 0.8491\n",
            "Epoch 5/5\n",
            "118/118 [==============================] - 551s 5s/step - loss: 0.4275 - accuracy: 0.8639 - val_loss: 0.4498 - val_accuracy: 0.8492\n"
          ]
        }
      ]
    },
    {
      "cell_type": "markdown",
      "source": [
        "#Results"
      ],
      "metadata": {
        "id": "fpAAMnl1Zj0V"
      }
    },
    {
      "cell_type": "markdown",
      "source": [
        "###20 newsgroups"
      ],
      "metadata": {
        "id": "2jhPu8goZlaT"
      }
    },
    {
      "cell_type": "code",
      "source": [
        "news_loss, news_acc = news_model.evaluate(X_test_news, y_test_news, verbose=0)\n",
        "print('Test loss:', news_loss)\n",
        "print('Test accuracy:', news_acc)"
      ],
      "metadata": {
        "colab": {
          "base_uri": "https://localhost:8080/"
        },
        "id": "XmYzU-teaKGD",
        "outputId": "d7e07d93-c221-4978-c1db-9ec53d467e2b"
      },
      "execution_count": 25,
      "outputs": [
        {
          "output_type": "stream",
          "name": "stdout",
          "text": [
            "Test loss: 0.18993638455867767\n",
            "Test accuracy: 0.9722222089767456\n"
          ]
        }
      ]
    },
    {
      "cell_type": "markdown",
      "source": [
        "###IMDB"
      ],
      "metadata": {
        "id": "DPxCaVIha3oF"
      }
    },
    {
      "cell_type": "code",
      "source": [
        "imdb_loss, imdb_acc = imdb_model.evaluate(X_test_imdb, y_test_imdb, verbose=0)\n",
        "print('Test loss:', imdb_loss)\n",
        "print('Test accuracy:', imdb_acc)"
      ],
      "metadata": {
        "colab": {
          "base_uri": "https://localhost:8080/"
        },
        "id": "Lyedx9Vfa4gL",
        "outputId": "008f57b3-f1f1-405f-b369-2be49620cb7d"
      },
      "execution_count": 26,
      "outputs": [
        {
          "output_type": "stream",
          "name": "stdout",
          "text": [
            "Test loss: 0.4509839713573456\n",
            "Test accuracy: 0.8513000011444092\n"
          ]
        }
      ]
    }
  ]
}